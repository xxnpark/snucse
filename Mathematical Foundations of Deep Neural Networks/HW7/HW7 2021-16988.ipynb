{
 "cells": [
  {
   "cell_type": "markdown",
   "metadata": {
    "id": "iou5B86xkELY"
   },
   "source": [
    "# Problem 3"
   ]
  },
  {
   "cell_type": "code",
   "execution_count": 1,
   "metadata": {
    "id": "_W15lI3skELZ"
   },
   "outputs": [],
   "source": [
    "import torch.nn as nn\n",
    "from torch.utils.data import DataLoader\n",
    "import torch\n",
    "import torchvision\n",
    "import torchvision.transforms as transforms"
   ]
  },
  {
   "cell_type": "code",
   "execution_count": 2,
   "metadata": {
    "colab": {
     "base_uri": "https://localhost:8080/"
    },
    "id": "daWVTPlnkELa",
    "outputId": "0f89db9f-461a-4db1-82b5-660531ef946a"
   },
   "outputs": [
    {
     "data": {
      "text/plain": [
       "<All keys matched successfully>"
      ]
     },
     "execution_count": 2,
     "metadata": {},
     "output_type": "execute_result"
    }
   ],
   "source": [
    "# Instantiate model with BN and load trained parameters\n",
    "\n",
    "class smallNetTrain(nn.Module) :\n",
    "    # CIFAR-10 data is 32*32 images with 3 RGB channels\n",
    "    def __init__(self, input_dim=3*32*32) :\n",
    "        super().__init__()\n",
    "        \n",
    "        self.conv1 = nn.Sequential(\n",
    "                            nn.Conv2d(3, 16, kernel_size=3, padding=1),\n",
    "                            nn.BatchNorm2d(16),\n",
    "                            nn.ReLU()\n",
    "                            )      \n",
    "        self.conv2 = nn.Sequential(\n",
    "                            nn.Conv2d(16, 16, kernel_size=3, padding=1),\n",
    "                            nn.BatchNorm2d(16),\n",
    "                            nn.ReLU()\n",
    "                            ) \n",
    "        self.fc1 = nn.Sequential(\n",
    "                            nn.Linear(16*32*32, 32*32),\n",
    "                            nn.BatchNorm1d(32*32),\n",
    "                            nn.ReLU()\n",
    "                            )   \n",
    "        self.fc2 = nn.Sequential(\n",
    "                            nn.Linear(32*32, 10),\n",
    "                            nn.ReLU()\n",
    "                            )   \n",
    "    def forward(self, x) :\n",
    "        x = self.conv1(x)\n",
    "        x = self.conv2(x)\n",
    "        x = x.float().view(-1, 16*32*32)\n",
    "        x = self.fc1(x)\n",
    "        x = self.fc2(x)\n",
    "        \n",
    "        return x\n",
    "        \n",
    "model = smallNetTrain()\n",
    "model.load_state_dict(torch.load(\"./smallNetSaved\",map_location=torch.device('cpu')))"
   ]
  },
  {
   "cell_type": "code",
   "execution_count": 3,
   "metadata": {
    "id": "YMXSovb2kELc"
   },
   "outputs": [],
   "source": [
    "# Instantiate model without BN\n",
    "\n",
    "class smallNetTest(nn.Module) :\n",
    "    # CIFAR-10 data is 32*32 images with 3 RGB channels\n",
    "    def __init__(self, input_dim=3*32*32) :\n",
    "        super().__init__()\n",
    "\n",
    "        self.conv1 = nn.Sequential(\n",
    "                            nn.Conv2d(3, 16, kernel_size=3, padding=1),\n",
    "                            nn.ReLU()\n",
    "                            )      \n",
    "        self.conv2 = nn.Sequential(\n",
    "                            nn.Conv2d(16, 16, kernel_size=3, padding=1),\n",
    "                            nn.ReLU()\n",
    "                            ) \n",
    "        self.fc1 = nn.Sequential(\n",
    "                            nn.Linear(16*32*32, 32*32),\n",
    "                            nn.ReLU()\n",
    "                            )   \n",
    "        self.fc2 = nn.Sequential(\n",
    "                            nn.Linear(32*32, 10),\n",
    "                            nn.ReLU()\n",
    "                            )   \n",
    "    def forward(self, x) :\n",
    "        x = self.conv1(x)\n",
    "        x = self.conv2(x)\n",
    "        x = x.float().view(-1, 16*32*32)\n",
    "        x = self.fc1(x)\n",
    "        x = self.fc2(x)\n",
    "        \n",
    "        return x\n",
    "    \n",
    "model_test = smallNetTest()"
   ]
  },
  {
   "cell_type": "code",
   "execution_count": 4,
   "metadata": {
    "id": "AcD0tX1NkELc"
   },
   "outputs": [],
   "source": [
    "# Initialize weights of model without BN\n",
    "\n",
    "conv1_bn_beta, conv1_bn_gamma = model.conv1[1].bias, model.conv1[1].weight\n",
    "conv1_bn_mean, conv1_bn_var = model.conv1[1].running_mean, model.conv1[1].running_var\n",
    "conv2_bn_beta, conv2_bn_gamma = model.conv2[1].bias, model.conv2[1].weight\n",
    "conv2_bn_mean, conv2_bn_var = model.conv2[1].running_mean, model.conv2[1].running_var\n",
    "fc1_bn_beta, fc1_bn_gamma = model.fc1[1].bias, model.fc1[1].weight\n",
    "fc1_bn_mean, fc1_bn_var = model.fc1[1].running_mean, model.fc1[1].running_var\n",
    "eps = 1e-5\n",
    "\n",
    "model_test.conv1[0].weight.data = model.conv1[0].weight.data * (conv1_bn_gamma / torch.sqrt(conv1_bn_var + eps)).view([model.conv1[0].out_channels, 1, 1, 1])\n",
    "model_test.conv1[0].bias.data = (model.conv1[0].bias.data - conv1_bn_mean) / torch.sqrt(conv1_bn_var + eps) * conv1_bn_gamma + conv1_bn_beta\n",
    "\n",
    "model_test.conv2[0].weight.data = model.conv2[0].weight.data * (conv2_bn_gamma / torch.sqrt(conv2_bn_var + eps)).view([model.conv2[0].out_channels, 1, 1, 1])\n",
    "model_test.conv2[0].bias.data = (model.conv2[0].bias.data - conv2_bn_mean) / torch.sqrt(conv2_bn_var + eps) * conv2_bn_gamma + conv2_bn_beta\n",
    "\n",
    "model_test.fc1[0].weight.data = model.fc1[0].weight.data * (fc1_bn_gamma / torch.sqrt(fc1_bn_var + eps)).view([model.fc1[0].out_features, 1])\n",
    "model_test.fc1[0].bias.data = (model.fc1[0].bias.data - fc1_bn_mean) / torch.sqrt(fc1_bn_var + eps) * fc1_bn_gamma + fc1_bn_beta\n",
    "\n",
    "model_test.fc2[0].weight.data = model.fc2[0].weight.data\n",
    "model_test.fc2[0].bias.data = model.fc2[0].bias.data"
   ]
  },
  {
   "cell_type": "code",
   "execution_count": 5,
   "metadata": {
    "colab": {
     "base_uri": "https://localhost:8080/"
    },
    "id": "7rKH_YOukELd",
    "outputId": "31860be7-8e15-4230-f255-522e8a7ad292"
   },
   "outputs": [
    {
     "name": "stdout",
     "output_type": "stream",
     "text": [
      "Files already downloaded and verified\n",
      "tensor(5.1554e-09)\n"
     ]
    }
   ],
   "source": [
    "# Verify difference between model and model_test\n",
    "\n",
    "model.eval()  \n",
    "# model_test.eval()  # not necessary since model_test has no BN or dropout \n",
    "\n",
    "test_dataset = torchvision.datasets.CIFAR10(root='./cifar_10data/',\n",
    "                                train=False, \n",
    "                                transform=transforms.ToTensor(), download = True)\n",
    "test_loader = torch.utils.data.DataLoader(dataset=test_dataset, batch_size=100, shuffle=False)\n",
    "\n",
    "diff = []\n",
    "with torch.no_grad():\n",
    "    for images, _ in test_loader:\n",
    "        diff.append(torch.norm(model(images) - model_test(images))**2) \n",
    "        \n",
    "print(max(diff)) # If less than 1e-08, you got the right answer."
   ]
  },
  {
   "cell_type": "markdown",
   "metadata": {
    "id": "MS8Icl7vaT88"
   },
   "source": [
    "# Problem 5"
   ]
  },
  {
   "cell_type": "markdown",
   "metadata": {
    "id": "hhdb8X4KaVOq"
   },
   "source": [
    "## (a)"
   ]
  },
  {
   "cell_type": "code",
   "execution_count": 6,
   "metadata": {
    "id": "e0whuzeVaU5c"
   },
   "outputs": [],
   "source": [
    "class Net1(nn.Module):\n",
    "    def __init__(self, num_classes=10):\n",
    "        super(Net1, self).__init__()\n",
    "        self.features = nn.Sequential(\n",
    "            nn.Conv2d(3, 64, kernel_size=7, stride=1),\n",
    "            nn.ReLU(),\n",
    "            nn.Conv2d(64, 192, kernel_size=3, stride=1),\n",
    "            nn.ReLU(),\n",
    "            nn.Conv2d(192, 384, kernel_size=3, stride=1),\n",
    "            nn.ReLU(),\n",
    "            nn.Conv2d(384, 256, kernel_size=3, stride=1),\n",
    "            nn.ReLU(),\n",
    "            nn.Conv2d(256, 256, kernel_size=3, stride=1),\n",
    "        )\n",
    "        self.classifier = nn.Sequential(\n",
    "            nn.Linear(256 * 18 * 18, 4096),\n",
    "            nn.ReLU(),\n",
    "            nn.Linear(4096, 4096),\n",
    "            nn.ReLU(),\n",
    "            nn.Linear(4096, num_classes)\n",
    "        )\n",
    "\n",
    "    def forward(self, x):\n",
    "        x = self.features(x)\n",
    "        x = torch.flatten(x, 1)\n",
    "        x = self.classifier(x)\n",
    "        return x\n",
    "\n",
    "model1 = Net1() # model1 randomly initialized"
   ]
  },
  {
   "cell_type": "code",
   "execution_count": 7,
   "metadata": {
    "id": "dQgPMCjmaXuk"
   },
   "outputs": [],
   "source": [
    "class Net2(nn.Module):\n",
    "    def __init__(self, num_classes=10):\n",
    "        super(Net2, self).__init__()\n",
    "        self.features = nn.Sequential(\n",
    "            nn.Conv2d(3, 64, kernel_size=7, stride=1),\n",
    "            nn.ReLU(),\n",
    "            nn.Conv2d(64, 192, kernel_size=3, stride=1),\n",
    "            nn.ReLU(),\n",
    "            nn.Conv2d(192, 384, kernel_size=3, stride=1),\n",
    "            nn.ReLU(),\n",
    "            nn.Conv2d(384, 256, kernel_size=3, stride=1),\n",
    "            nn.ReLU(),\n",
    "            nn.Conv2d(256, 256, kernel_size=3, stride=1),\n",
    "        )\n",
    "        self.classifier = nn.Sequential(\n",
    "            nn.Conv2d(256, 4096, kernel_size=18),\n",
    "            nn.ReLU(),\n",
    "            nn.Conv2d(4096, 4096, kernel_size=1),\n",
    "            nn.ReLU(),\n",
    "            nn.Conv2d(4096, num_classes, kernel_size=1)\n",
    "        )\n",
    "\n",
    "    def copy_weights_from(self, net1):\n",
    "        with torch.no_grad():\n",
    "            for i in range(0, len(self.features), 2):\n",
    "                self.features[i].weight.copy_(net1.features[i].weight)\n",
    "                self.features[i].bias.copy_(net1.features[i].bias)\n",
    "\n",
    "            for i in range(0, len(self.classifier), 2):\n",
    "                self.classifier[i].weight.copy_(net1.classifier[i].weight.view(self.classifier[i].weight.shape))\n",
    "                self.classifier[i].bias.copy_(net1.classifier[i].bias)\n",
    "\n",
    "    def forward(self, x):\n",
    "        x = self.features(x)\n",
    "        x = self.classifier(x)\n",
    "        return x\n",
    "\n",
    "model2 = Net2()\n",
    "model2.copy_weights_from(model1)"
   ]
  },
  {
   "cell_type": "code",
   "execution_count": 8,
   "metadata": {
    "colab": {
     "base_uri": "https://localhost:8080/"
    },
    "id": "4OvwlOuWaY2t",
    "outputId": "257a1158-b012-4ae6-b4cd-404dba2184aa"
   },
   "outputs": [
    {
     "name": "stdout",
     "output_type": "stream",
     "text": [
      "Average Pixel Difference: 7.309216708446808e-17\n"
     ]
    }
   ],
   "source": [
    "test_dataset = torchvision.datasets.CIFAR10(\n",
    "    root='./cifar_10data/',\n",
    "    train=False,\n",
    "    transform=torchvision.transforms.ToTensor()\n",
    ")\n",
    "\n",
    "test_loader = torch.utils.data.DataLoader(\n",
    "    dataset=test_dataset,\n",
    "    batch_size=10\n",
    ")\n",
    "\n",
    "imgs, _ = next(iter(test_loader))\n",
    "diff = torch.mean((model1(imgs) - model2(imgs).squeeze()) ** 2)\n",
    "print(f\"Average Pixel Difference: {diff.item()}\") # should be small"
   ]
  },
  {
   "cell_type": "markdown",
   "metadata": {
    "id": "QhcT4A3haZ6B"
   },
   "source": [
    "## (b)"
   ]
  },
  {
   "cell_type": "code",
   "execution_count": 9,
   "metadata": {
    "colab": {
     "base_uri": "https://localhost:8080/"
    },
    "id": "6lidxeMcaaqZ",
    "outputId": "d8574dc9-9c30-4f3c-9b52-1208661d620a"
   },
   "outputs": [
    {
     "name": "stdout",
     "output_type": "stream",
     "text": [
      "Files already downloaded and verified\n",
      "Average Pixel Diff: 7.132095501731034e-17\n"
     ]
    }
   ],
   "source": [
    "test_dataset = torchvision.datasets.CIFAR10(\n",
    "    root='./cifar_10data/',\n",
    "    train=False,\n",
    "    transform=torchvision.transforms.Compose([\n",
    "        torchvision.transforms.Resize((36, 38)),\n",
    "        torchvision.transforms.ToTensor()\n",
    "        ]),\n",
    "    download=True\n",
    ")\n",
    "\n",
    "test_loader = torch.utils.data.DataLoader(\n",
    "    dataset=test_dataset,\n",
    "    batch_size=10,\n",
    "    shuffle=False\n",
    ")\n",
    "\n",
    "images, _ = next(iter(test_loader))\n",
    "b, w, h = images.shape[0], images.shape[-1], images.shape[-2]\n",
    "out1 = torch.empty((b, 10, h - 31, w - 31))\n",
    "for i in range(h - 31):\n",
    "    for j in range(w - 31):\n",
    "        out1[:, :, i, j] = model1(images[:, :, i:i+32, j:j+32])\n",
    "out2 = model2(images)\n",
    "diff = torch.mean((out1 - out2) ** 2)\n",
    "\n",
    "print(f\"Average Pixel Diff: {diff.item()}\")"
   ]
  }
 ],
 "metadata": {
  "colab": {
   "provenance": []
  },
  "kernelspec": {
   "display_name": "Python 3 (ipykernel)",
   "language": "python",
   "name": "python3"
  },
  "language_info": {
   "codemirror_mode": {
    "name": "ipython",
    "version": 3
   },
   "file_extension": ".py",
   "mimetype": "text/x-python",
   "name": "python",
   "nbconvert_exporter": "python",
   "pygments_lexer": "ipython3",
   "version": "3.8.10"
  },
  "vscode": {
   "interpreter": {
    "hash": "aee8b7b246df8f9039afb4144a1f6fd8d2ca17a180786b69acc140d282b71a49"
   }
  }
 },
 "nbformat": 4,
 "nbformat_minor": 4
}
