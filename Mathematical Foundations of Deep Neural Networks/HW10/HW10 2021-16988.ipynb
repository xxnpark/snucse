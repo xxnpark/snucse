{
 "cells": [
  {
   "cell_type": "markdown",
   "metadata": {},
   "source": [
    "# Problem 3"
   ]
  },
  {
   "cell_type": "code",
   "execution_count": 1,
   "metadata": {},
   "outputs": [],
   "source": [
    "import torch\n",
    "import torch.nn as nn\n",
    "import torch.nn.functional as F\n",
    "import torchvision\n",
    "from torchvision import datasets, transforms\n",
    "from torchvision.utils import save_image, make_grid\n",
    "import numpy as np\n",
    "import matplotlib.pyplot as plt"
   ]
  },
  {
   "cell_type": "code",
   "execution_count": 2,
   "metadata": {},
   "outputs": [],
   "source": [
    "batch_size = 128\n",
    "(full_dim, mid_dim, hidden) = (1 * 28 * 28, 1000, 5)\n",
    "lr = 1e-3\n",
    "epochs = 100\n",
    "device = torch.device(\"cpu\")"
   ]
  },
  {
   "cell_type": "code",
   "execution_count": 3,
   "metadata": {},
   "outputs": [],
   "source": [
    "############################################\n",
    "# STEP 1: Define dataset and preprocessing #\n",
    "############################################\n",
    "\n",
    "#####################################\n",
    "# STEP 2: Define prior distribution #\n",
    "#####################################\n",
    "\n",
    "class Logistic(torch.distributions.Distribution):\n",
    "    def __init__(self):\n",
    "        super(Logistic, self).__init__()\n",
    "\n",
    "    def log_prob(self, x):\n",
    "        return -(F.softplus(x) + F.softplus(-x))\n",
    "\n",
    "    def sample(self, size):\n",
    "        z = torch.distributions.Uniform(0., 1.).sample(size).to(device)\n",
    "        return torch.log(z) - torch.log(1. - z)"
   ]
  },
  {
   "cell_type": "code",
   "execution_count": 4,
   "metadata": {},
   "outputs": [],
   "source": [
    "####################################\n",
    "# STEP 3: Implement Coupling Layer #\n",
    "####################################\n",
    "\n",
    "class Coupling(nn.Module):\n",
    "    def __init__(self, in_out_dim, mid_dim, hidden, mask_config):\n",
    "        super(Coupling, self).__init__()\n",
    "        self.mask_config = mask_config\n",
    "        \n",
    "        self.in_block = nn.Sequential(nn.Linear(in_out_dim//2, mid_dim), nn.ReLU())\n",
    "        self.mid_block = nn.ModuleList([nn.Sequential(nn.Linear(mid_dim, mid_dim), nn.ReLU())\n",
    "                                                                 for _ in range(hidden - 1)])\n",
    "        self.out_block = nn.Linear(mid_dim, in_out_dim//2)\n",
    "\n",
    "    def forward(self, x, reverse=False):\n",
    "        [B, W] = list(x.size())\n",
    "        x = x.reshape((B, W//2, 2))\n",
    "        if self.mask_config:\n",
    "            on, off = x[:, :, 0], x[:, :, 1]\n",
    "        else:\n",
    "            off, on = x[:, :, 0], x[:, :, 1]\n",
    "\n",
    "        off_ = self.in_block(off)\n",
    "        for i in range(len(self.mid_block)):\n",
    "            off_ = self.mid_block[i](off_)\n",
    "        shift = self.out_block(off_)\n",
    "        \n",
    "        if reverse:\n",
    "            on = on - shift\n",
    "        else:\n",
    "            on = on + shift\n",
    "\n",
    "        if self.mask_config:\n",
    "            x = torch.stack((on, off), dim=2)\n",
    "        else:\n",
    "            x = torch.stack((off, on), dim=2)\n",
    "        return x.reshape((B, W))\n",
    "\n",
    "class Scaling(nn.Module):\n",
    "    def __init__(self, dim):\n",
    "        super(Scaling, self).__init__()\n",
    "        self.scale = nn.Parameter(torch.zeros((1, dim)), requires_grad=True)\n",
    "\n",
    "    def forward(self, x, reverse=False):\n",
    "        log_det_J = torch.sum(self.scale)\n",
    "        if reverse:\n",
    "            x = x * torch.exp(-self.scale)\n",
    "        else:\n",
    "            x = x * torch.exp(self.scale)\n",
    "        return x, log_det_J"
   ]
  },
  {
   "cell_type": "code",
   "execution_count": 5,
   "metadata": {},
   "outputs": [],
   "source": [
    "##########################\n",
    "# STEP 4: Implement NICE #\n",
    "##########################\n",
    "\n",
    "class NICE(nn.Module):\n",
    "    def __init__(self,in_out_dim, mid_dim, hidden, mask_config=1.0, coupling=4):\n",
    "        super(NICE, self).__init__()\n",
    "        self.prior = Logistic()\n",
    "        self.in_out_dim = in_out_dim\n",
    "\n",
    "        self.coupling = nn.ModuleList([\n",
    "            Coupling(in_out_dim=in_out_dim, \n",
    "                     mid_dim=mid_dim, \n",
    "                     hidden=hidden, \n",
    "                     mask_config=(mask_config+i)%2) \\\n",
    "            for i in range(coupling)])\n",
    "        \n",
    "        self.scaling = Scaling(in_out_dim)\n",
    "\n",
    "    def g(self, z):\n",
    "        x, _ = self.scaling(z, reverse=True)\n",
    "        for i in reversed(range(len(self.coupling))):\n",
    "            x = self.coupling[i](x, reverse=True)\n",
    "        return x\n",
    "\n",
    "    def f(self, x):\n",
    "        for i in range(len(self.coupling)):\n",
    "            x = self.coupling[i](x)\n",
    "        z, log_det_J = self.scaling(x)\n",
    "        return z, log_det_J\n",
    "\n",
    "    def log_prob(self, x):\n",
    "        z, log_det_J = self.f(x)\n",
    "        log_ll = torch.sum(self.prior.log_prob(z), dim=1)\n",
    "        return log_ll + log_det_J\n",
    "\n",
    "    def sample(self, size):\n",
    "        z = self.prior.sample((size, self.in_out_dim)).to(device)\n",
    "        return self.g(z)\n",
    "\n",
    "    def forward(self, x):\n",
    "        return self.log_prob(x)"
   ]
  },
  {
   "cell_type": "code",
   "execution_count": 6,
   "metadata": {},
   "outputs": [
    {
     "name": "stderr",
     "output_type": "stream",
     "text": [
      "/Library/Frameworks/Python.framework/Versions/3.8/lib/python3.8/site-packages/torch/distributions/distribution.py:44: UserWarning: <class '__main__.Logistic'> does not define `arg_constraints`. Please set `arg_constraints = {}` or initialize the distribution with `validate_args=False` to turn off validation.\n",
      "  warnings.warn(f'{self.__class__} does not define `arg_constraints`. ' +\n"
     ]
    },
    {
     "data": {
      "image/png": "[encoded data removed]",
      "text/plain": [
       "<Figure size 864x288 with 3 Axes>"
      ]
     },
     "metadata": {
      "needs_background": "light"
     },
     "output_type": "display_data"
    }
   ],
   "source": [
    "# Load pre-trained NICE model onto CPU\n",
    "model = NICE(in_out_dim=784, mid_dim=1000, hidden=5).to(device)\n",
    "model.load_state_dict(torch.load('nice.pt',map_location=torch.device('cpu')))\n",
    "\n",
    "# Since we do not update model, set requires_grad = False\n",
    "model.requires_grad_(False)\n",
    "\n",
    "# Get an MNIST image\n",
    "testset = torchvision.datasets.MNIST(root='./', train=False, download=True, transform=torchvision.transforms.ToTensor())\n",
    "test_loader = torch.utils.data.DataLoader(testset, batch_size=1, shuffle=False)\n",
    "pass_count = 6\n",
    "itr = iter(test_loader)\n",
    "for _ in range(pass_count+1):\n",
    "    image,_ = itr.next()\n",
    "\n",
    "fig, (ax1, ax2, ax3) = plt.subplots(1, 3, figsize=(12, 4))\n",
    "ax1.set_title('Original Image')\n",
    "ax1.imshow(make_grid(image.squeeze().detach()).permute(1,2,0))\n",
    "# ax1.savefig('plt1.png')\n",
    "\n",
    "# Create mask \n",
    "mask = torch.ones_like(image,dtype=torch.bool)\n",
    "mask[:,:,5:12,5:20] = 0\n",
    "\n",
    "# Partially corrupt the image\n",
    "image[mask.logical_not()] = torch.ones_like(image[mask.logical_not()])\n",
    "ax2.set_title('Corrupted Image')\n",
    "ax2.imshow(make_grid(image.squeeze()).permute(1,2,0))\n",
    "# ax2.savefig('plt2.png')\n",
    "\n",
    "# Plot reconstruction\n",
    "X = image.clone().requires_grad_(True)\n",
    "for i in range(300):\n",
    "    X.data = X.data.view(-1, 28*28)\n",
    "    loss = -model(X)\n",
    "    loss.backward()\n",
    "    X.data = torch.clamp(X.data - lr * X.grad, min=0, max=1)\n",
    "    X.data[mask.view(-1, 28*28).logical_not().logical_not()] = image.view(-1, 28*28)[mask.view(-1, 28*28).logical_not().logical_not()]\n",
    "X.data = X.data.view(image.size())\n",
    "\n",
    "ax3.set_title('Reconstruction')\n",
    "ax3.imshow(make_grid(X.squeeze().detach()).permute(1,2,0))\n",
    "# ax3.savefig('plt3.png')\n",
    "\n",
    "plt.show()"
   ]
  },
  {
   "cell_type": "markdown",
   "metadata": {},
   "source": [
    "# Problem 5"
   ]
  },
  {
   "cell_type": "code",
   "execution_count": 7,
   "metadata": {},
   "outputs": [
    {
     "name": "stdout",
     "output_type": "stream",
     "text": [
      "Estimate: 0.000002 ± 0.000000\n"
     ]
    }
   ],
   "source": [
    "import torch\n",
    "import math\n",
    "\n",
    "N = 3000\n",
    "p = 18. / 37.\n",
    "q = 0.55\n",
    "max_play = 600\n",
    "\n",
    "def f(X_i):\n",
    "    return p**X_i * (1-p)**(1-X_i)\n",
    "\n",
    "def g(Y_i):\n",
    "    return q**Y_i * (1-q)**(1-Y_i)\n",
    "\n",
    "samp = []\n",
    "for _ in range(N):\n",
    "    Y = torch.bernoulli(q * torch.ones(max_play))\n",
    "    balance = 100\n",
    "    s = 1\n",
    "    for i in range(max_play):\n",
    "        balance += 2*Y[i]-1\n",
    "        s *= f(Y[i]) / g(Y[i])\n",
    "        if balance == 0 or balance == 200:\n",
    "            break\n",
    "    s *= (balance == 200).float()\n",
    "    samp.append(s)\n",
    "\n",
    "samp = torch.Tensor(samp)\n",
    "Ihat,s = samp.mean(), samp.var()\n",
    "print(f\"Estimate: {Ihat:.6f} ± {math.sqrt(s/N):.6f}\")"
   ]
  },
  {
   "cell_type": "markdown",
   "metadata": {},
   "source": [
    "# Problem 6"
   ]
  },
  {
   "cell_type": "markdown",
   "metadata": {},
   "source": [
    "## (a)"
   ]
  },
  {
   "cell_type": "code",
   "execution_count": 16,
   "metadata": {},
   "outputs": [
    {
     "name": "stdout",
     "output_type": "stream",
     "text": [
      "mu = 0.3323487937450409\n",
      "sigma = 0.8285127878189087\n",
      "tensor([7.1168])\n"
     ]
    }
   ],
   "source": [
    "import torch\n",
    "import math\n",
    "\n",
    "lr = 1e-3\n",
    "B = 16\n",
    "iterations = 500\n",
    "mu = torch.tensor([0.])\n",
    "tau = torch.tensor([0.])\n",
    "\n",
    "for itr in range(iterations):\n",
    "    X = torch.normal(0, 1, size=(B,)) * tau.exp() + mu\n",
    "    mu -= lr * (torch.sum(X * X.sin() * (X - mu) / tau.exp()**2) / B + mu - 1)\n",
    "    tau -= lr * (torch.sum(X * X.sin() * ((X - mu)**2 / tau.exp() - 1)) / B + tau.exp() - 1)\n",
    "\n",
    "print(f\"mu = {mu[0]}\")\n",
    "print(f\"sigma = {tau.exp()[0]}\")"
   ]
  },
  {
   "cell_type": "markdown",
   "metadata": {},
   "source": [
    "## (b)"
   ]
  },
  {
   "cell_type": "code",
   "execution_count": 9,
   "metadata": {},
   "outputs": [
    {
     "name": "stdout",
     "output_type": "stream",
     "text": [
      "mu = 0.3241511881351471\n",
      "sigma = 0.7526840567588806\n"
     ]
    }
   ],
   "source": [
    "import torch\n",
    "import math\n",
    "\n",
    "lr = 1e-3\n",
    "B = 16\n",
    "iterations = 500\n",
    "mu = torch.tensor([0.])\n",
    "tau = torch.tensor([0.])\n",
    "\n",
    "for itr in range(iterations):\n",
    "    Y = torch.normal(0, 1, size=(B,))\n",
    "    X = mu + tau.exp() * Y\n",
    "    mu -= lr * (torch.sum(X.sin() + X * X.cos()) / B + mu - 1)\n",
    "    tau -= lr * (torch.sum((X.sin() + X * X.cos()) * Y) / B + tau.exp() - 1)\n",
    "    \n",
    "print(f\"mu = {mu[0]}\")\n",
    "print(f\"sigma = {tau.exp()[0]}\")"
   ]
  }
 ],
 "metadata": {
  "kernelspec": {
   "display_name": "Python 3 (ipykernel)",
   "language": "python",
   "name": "python3"
  },
  "language_info": {
   "codemirror_mode": {
    "name": "ipython",
    "version": 3
   },
   "file_extension": ".py",
   "mimetype": "text/x-python",
   "name": "python",
   "nbconvert_exporter": "python",
   "pygments_lexer": "ipython3",
   "version": "3.8.10"
  },
  "vscode": {
   "interpreter": {
    "hash": "aee8b7b246df8f9039afb4144a1f6fd8d2ca17a180786b69acc140d282b71a49"
   }
  }
 },
 "nbformat": 4,
 "nbformat_minor": 4
}
