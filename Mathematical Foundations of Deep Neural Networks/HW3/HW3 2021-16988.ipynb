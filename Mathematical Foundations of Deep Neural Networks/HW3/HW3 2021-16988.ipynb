{
 "cells": [
  {
   "cell_type": "markdown",
   "metadata": {
    "id": "4Tzi-QDfm4fA"
   },
   "source": [
    "# Problem 1"
   ]
  },
  {
   "cell_type": "code",
   "execution_count": 1,
   "metadata": {
    "id": "ZxpL2DC_m5iE"
   },
   "outputs": [],
   "source": [
    "import torch\n",
    "import numpy as np\n",
    "from torch import nn, optim\n",
    "from torch.nn import functional as F\n",
    "from torch.utils.data import TensorDataset, DataLoader\n",
    "import matplotlib.pyplot as plt\n",
    "from sklearn.model_selection import train_test_split"
   ]
  },
  {
   "cell_type": "code",
   "execution_count": 2,
   "metadata": {
    "id": "xXHZihtou2aT"
   },
   "outputs": [],
   "source": [
    "# Prepare dataset\n",
    "\n",
    "alpha = 0.1\n",
    "K = 1000\n",
    "B = 128\n",
    "N = 512\n",
    "\n",
    "def f_true(x) :\n",
    "    return (x-2) * np.cos(x*4)\n",
    "\n",
    "torch.manual_seed(0)\n",
    "X_train = torch.normal(0.0, 1.0, (N,))\n",
    "y_train = f_true(X_train)\n",
    "X_val = torch.normal(0.0, 1.0, (N//5,))\n",
    "y_val = f_true(X_val)\n",
    "\n",
    "train_dataloader = DataLoader(TensorDataset(X_train.unsqueeze(1), y_train.unsqueeze(1)), batch_size=B)\n",
    "test_dataloader = DataLoader(TensorDataset(X_val.unsqueeze(1), y_val.unsqueeze(1)), batch_size=B)"
   ]
  },
  {
   "cell_type": "code",
   "execution_count": 3,
   "metadata": {
    "id": "knUssRq9vBP4"
   },
   "outputs": [],
   "source": [
    "# Define the Neural Network Class\n",
    "\n",
    "n0, n1, n2, n3 = 1, 64, 64, 1\n",
    "\n",
    "class MLP(nn.Module):\n",
    "    def __init__(self):\n",
    "        super().__init__()\n",
    "        self.l1 = nn.Linear(n0, n1, bias=True)\n",
    "        self.l2 = nn.Linear(n1, n2, bias=True)\n",
    "        self.l3 = nn.Linear(n2, n3, bias=True)\n",
    "\n",
    "    def forward(self, x):\n",
    "        x = x.float().view(-1, 1)\n",
    "        x1 = torch.sigmoid(self.l1(x))\n",
    "        x2 = torch.sigmoid(self.l2(x1))\n",
    "        x3 = self.l3(x2)\n",
    "        return x3"
   ]
  },
  {
   "cell_type": "code",
   "execution_count": 4,
   "metadata": {
    "id": "L9VxFvmxyiBw"
   },
   "outputs": [],
   "source": [
    "# Create Model, Initialize Weights, Specify Loss Function and Optimizer\n",
    "\n",
    "model = MLP()                                \n",
    "\n",
    "model.l1.weight.data = torch.normal(0, 1, model.l1.weight.shape)\n",
    "model.l1.bias.data = torch.full(model.l1.bias.shape , 0.03)\n",
    "model.l2.weight.data = torch.normal(0, 1, model.l2.weight.shape)\n",
    "model.l2.bias.data = torch.full(model.l2.bias.shape , 0.03)\n",
    "model.l3.weight.data = torch.normal(0, 1, model.l3.weight.shape)\n",
    "model.l3.bias.data = torch.full(model.l3.bias.shape , 0.03)\n",
    "\n",
    "loss_function = torch.nn.MSELoss()                               \n",
    "optimizer = torch.optim.SGD(model.parameters(), lr=alpha)"
   ]
  },
  {
   "cell_type": "code",
   "execution_count": 5,
   "metadata": {
    "id": "3uFg5GxmyocM"
   },
   "outputs": [],
   "source": [
    "# Train Model with Shuffled Cyclic SGD\n",
    "\n",
    "for _ in range(K):\n",
    "    for x, y in train_dataloader:\n",
    "        optimizer.zero_grad()\n",
    "        train_loss = loss_function(model(x), y)\n",
    "        train_loss.backward()\n",
    "        optimizer.step()"
   ]
  },
  {
   "cell_type": "code",
   "execution_count": 6,
   "metadata": {
    "colab": {
     "base_uri": "https://localhost:8080/"
    },
    "id": "zUg4JZkz6Bs3",
    "outputId": "05a9c16c-a94d-42b1-962b-6f1e59bcd8fe"
   },
   "outputs": [
    {
     "name": "stdout",
     "output_type": "stream",
     "text": [
      "[Test set] Average loss: 1.2829, Accuracy: 90/102 (88.24%)\n",
      "\n"
     ]
    }
   ],
   "source": [
    "# Test Model\n",
    "\n",
    "test_loss, correct = 0, 0\n",
    "misclassified_ind = []\n",
    "correct_ind = []\n",
    "\n",
    "for ind in range(len(X_val)) :\n",
    "\n",
    "    x, y = X_val[ind], y_val[ind]\n",
    "    output = model(x)\n",
    "    test_loss += loss_function(output, y.float().view(-1, 1)).item()\n",
    "\n",
    "    if output.item() * y.item() >= 0 :\n",
    "        correct += 1\n",
    "        correct_ind += [ind]\n",
    "    else:\n",
    "        misclassified_ind += [ind]\n",
    "\n",
    "print('[Test set] Average loss: {:.4f}, Accuracy: {}/{} ({:.2f}%)\\n'.format(\n",
    "        test_loss /len(X_val.data), correct, len(X_val.data),\n",
    "        100. * correct / len(X_val.data)))"
   ]
  },
  {
   "cell_type": "code",
   "execution_count": 7,
   "metadata": {
    "colab": {
     "base_uri": "https://localhost:8080/",
     "height": 265
    },
    "id": "7EUNYdbSvF40",
    "outputId": "66128595-a50c-4af6-b346-2c95e9181658"
   },
   "outputs": [
    {
     "data": {
      "image/png": "[encoded data removed]",
      "text/plain": [
       "<Figure size 432x288 with 1 Axes>"
      ]
     },
     "metadata": {
      "needs_background": "light"
     },
     "output_type": "display_data"
    }
   ],
   "source": [
    "# Plot Results\n",
    "\n",
    "with torch.no_grad():\n",
    "    xx = torch.linspace(-2,2,1024).unsqueeze(1)\n",
    "    plt.plot(X_train,y_train,'rx',label='Data points')\n",
    "    plt.plot(xx,f_true(xx),'g',label='True Fn')\n",
    "    plt.plot(xx, model(xx),'b',label='Learned Fn')\n",
    "plt.legend()\n",
    "plt.show()"
   ]
  },
  {
   "cell_type": "markdown",
   "metadata": {
    "id": "j1dDPwtF557g"
   },
   "source": [
    "# Problem 2"
   ]
  },
  {
   "cell_type": "code",
   "execution_count": 8,
   "metadata": {
    "id": "USlVCdhB1nsl"
   },
   "outputs": [],
   "source": [
    "y_train = f_true(X_train) + torch.normal(0, 0.5, X_train.shape)"
   ]
  },
  {
   "cell_type": "code",
   "execution_count": 9,
   "metadata": {
    "id": "SOhAChrj_daF"
   },
   "outputs": [],
   "source": [
    "# Create Model, Initialize Weights, Specify Loss Function and Optimizer\n",
    "\n",
    "model = MLP()                                \n",
    "\n",
    "model.l1.weight.data = torch.normal(0, 1, model.l1.weight.shape)\n",
    "model.l1.bias.data = torch.full(model.l1.bias.shape , 0.03)\n",
    "model.l2.weight.data = torch.normal(0, 1, model.l2.weight.shape)\n",
    "model.l2.bias.data = torch.full(model.l2.bias.shape , 0.03)\n",
    "model.l3.weight.data = torch.normal(0, 1, model.l3.weight.shape)\n",
    "model.l3.bias.data = torch.full(model.l3.bias.shape , 0.03)\n",
    "\n",
    "loss_function = torch.nn.MSELoss()                               \n",
    "optimizer = torch.optim.SGD(model.parameters(), lr=alpha)"
   ]
  },
  {
   "cell_type": "code",
   "execution_count": 10,
   "metadata": {
    "id": "5dhn9FOK_X6D"
   },
   "outputs": [],
   "source": [
    "# Train Model with Shuffled Cyclic SGD\n",
    "\n",
    "for _ in range(K):\n",
    "    for x, y in train_dataloader:\n",
    "        optimizer.zero_grad()\n",
    "        train_loss = loss_function(model(x), y)\n",
    "        train_loss.backward()\n",
    "        optimizer.step()"
   ]
  },
  {
   "cell_type": "code",
   "execution_count": 11,
   "metadata": {
    "colab": {
     "base_uri": "https://localhost:8080/"
    },
    "id": "lbAGwAny_fIu",
    "outputId": "df79939f-c49b-41a6-bb8e-0ac624127daf"
   },
   "outputs": [
    {
     "name": "stdout",
     "output_type": "stream",
     "text": [
      "[Test set] Average loss: 0.1395, Accuracy: 96/102 (94.12%)\n",
      "\n"
     ]
    }
   ],
   "source": [
    "# Test Model\n",
    "\n",
    "test_loss, correct = 0, 0\n",
    "misclassified_ind = []\n",
    "correct_ind = []\n",
    "\n",
    "for ind in range(len(X_val)) :\n",
    "\n",
    "    x, y = X_val[ind], y_val[ind]\n",
    "    output = model(x)\n",
    "    test_loss += loss_function(output, y.float().view(-1, 1)).item()\n",
    "\n",
    "    if output.item() * y.item() >= 0 :\n",
    "        correct += 1\n",
    "        correct_ind += [ind]\n",
    "    else:\n",
    "        misclassified_ind += [ind]\n",
    "\n",
    "print('[Test set] Average loss: {:.4f}, Accuracy: {}/{} ({:.2f}%)\\n'.format(\n",
    "        test_loss /len(X_val.data), correct, len(X_val.data),\n",
    "        100. * correct / len(X_val.data)))"
   ]
  },
  {
   "cell_type": "code",
   "execution_count": 12,
   "metadata": {
    "colab": {
     "base_uri": "https://localhost:8080/",
     "height": 265
    },
    "id": "hCoCh0X8_gNN",
    "outputId": "b3cb87da-be3f-47eb-dcfc-12f7d098a6cc"
   },
   "outputs": [
    {
     "data": {
      "image/png": "[encoded data removed]",
      "text/plain": [
       "<Figure size 432x288 with 1 Axes>"
      ]
     },
     "metadata": {
      "needs_background": "light"
     },
     "output_type": "display_data"
    }
   ],
   "source": [
    "# Plot Results\n",
    "\n",
    "with torch.no_grad():\n",
    "    xx = torch.linspace(-2,2,1024).unsqueeze(1)\n",
    "    plt.plot(X_train,y_train,'rx',label='Data points')\n",
    "    plt.plot(xx,f_true(xx),'g',label='True Fn')\n",
    "    plt.plot(xx, model(xx),'b',label='Learned Fn')\n",
    "plt.legend()\n",
    "plt.show()"
   ]
  },
  {
   "cell_type": "markdown",
   "metadata": {
    "id": "NsyVMtKnAUgY"
   },
   "source": [
    "Problem 2 is different from problem 1 in that the training labels have some random errors. Nevertheless the training result still successfully came out, with an accuracy of 94%. The plot also shows that the result is fairly accurate. \n",
    "\n",
    "Also since there are two hidden layers in this problem, the number of trainable parameters is \n",
    "$$(1 \\times 64 + 64) + (64 \\times 64 + 64) + (64 \\times 1 + 1) = 4353.$$"
   ]
  }
 ],
 "metadata": {
  "colab": {
   "collapsed_sections": [],
   "provenance": []
  },
  "kernelspec": {
   "display_name": "Python 3 (ipykernel)",
   "language": "python",
   "name": "python3"
  },
  "language_info": {
   "codemirror_mode": {
    "name": "ipython",
    "version": 3
   },
   "file_extension": ".py",
   "mimetype": "text/x-python",
   "name": "python",
   "nbconvert_exporter": "python",
   "pygments_lexer": "ipython3",
   "version": "3.8.10"
  }
 },
 "nbformat": 4,
 "nbformat_minor": 4
}
