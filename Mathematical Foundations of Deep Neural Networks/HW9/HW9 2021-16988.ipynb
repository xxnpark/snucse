{
 "cells": [
  {
   "cell_type": "markdown",
   "metadata": {},
   "source": [
    "# Problem 1"
   ]
  },
  {
   "cell_type": "code",
   "execution_count": 1,
   "metadata": {},
   "outputs": [],
   "source": [
    "import torch\n",
    "import torch.nn as nn\n",
    "import torch.nn.functional as F\n",
    "from torch.utils.data import DataLoader\n",
    "from torchvision import datasets\n",
    "import torch.optim as optim\n",
    "from torchvision.transforms import transforms\n",
    "from torchvision.utils import save_image\n",
    "import numpy as np\n",
    "import matplotlib.pyplot as plt"
   ]
  },
  {
   "cell_type": "code",
   "execution_count": 2,
   "metadata": {},
   "outputs": [],
   "source": [
    "lr = 0.001\n",
    "batch_size = 100\n",
    "epochs = 10\n",
    "device = torch.device(\"cuda\" if torch.cuda.is_available() else \"cpu\")"
   ]
  },
  {
   "cell_type": "code",
   "execution_count": 3,
   "metadata": {},
   "outputs": [],
   "source": [
    "'''\n",
    "Step 1:\n",
    "'''\n",
    "\n",
    "# MNIST dataset\n",
    "dataset = datasets.MNIST(root='./mnist_data/',\n",
    "                         train=True, \n",
    "                         transform=transforms.ToTensor(),\n",
    "                         download=True)\n",
    "\n",
    "train_dataset, validation_dataset = torch.utils.data.random_split(dataset, [50000, 10000])\n",
    "\n",
    "test_dataset = datasets.MNIST(root='./mnist_data/',\n",
    "                              train=False, \n",
    "                              transform=transforms.ToTensor())\n",
    "\n",
    "# KMNIST dataset, only need test dataset\n",
    "anomaly_dataset = datasets.KMNIST(root='./kmnist_data/',\n",
    "                                  train=False, \n",
    "                                  transform=transforms.ToTensor(),\n",
    "                                  download=True)\n",
    "\n",
    "# print(len(train_dataset))  # 50000\n",
    "# print(len(validation_dataset))  # 10000\n",
    "# print(len(test_dataset))  # 10000\n",
    "# print(len(anomaly_dataset))  # 10000"
   ]
  },
  {
   "cell_type": "code",
   "execution_count": 4,
   "metadata": {},
   "outputs": [],
   "source": [
    "'''\n",
    "Step 2: AutoEncoder\n",
    "'''\n",
    "# Define Encoder\n",
    "class Encoder(nn.Module):\n",
    "    def __init__(self):\n",
    "        super(Encoder, self).__init__()\n",
    "        self.fc1 = nn.Linear(784, 256)\n",
    "        self.fc2 = nn.Linear(256, 128)\n",
    "        self.fc3 = nn.Linear(128, 32)\n",
    "    def forward(self, x):\n",
    "        x = x.view(x.size(0), -1)\n",
    "        x = F.relu(self.fc1(x))\n",
    "        x = F.relu(self.fc2(x))\n",
    "        z = F.relu(self.fc3(x))\n",
    "        return z\n",
    "\n",
    "# Define Decoder\n",
    "class Decoder(nn.Module):\n",
    "    def __init__(self):\n",
    "        super(Decoder, self).__init__()\n",
    "        self.fc1 = nn.Linear(32, 128)\n",
    "        self.fc2 = nn.Linear(128, 256)\n",
    "        self.fc3 = nn.Linear(256, 784)\n",
    "    def forward(self, z):\n",
    "        z = F.relu(self.fc1(z))\n",
    "        z = F.relu(self.fc2(z))\n",
    "        x = torch.sigmoid(self.fc3(z))  # to make output's pixels are 0~1\n",
    "        x = x.view(x.size(0), 1, 28, 28) \n",
    "        return x"
   ]
  },
  {
   "cell_type": "code",
   "execution_count": 5,
   "metadata": {},
   "outputs": [],
   "source": [
    "'''\n",
    "Step 3: Instantiate model & define loss and optimizer\n",
    "'''\n",
    "enc = Encoder().to(device)\n",
    "dec = Decoder().to(device)\n",
    "loss_function = nn.MSELoss()\n",
    "optimizer = optim.Adam(list(enc.parameters()) + list(dec.parameters()), lr=lr)"
   ]
  },
  {
   "cell_type": "code",
   "execution_count": 6,
   "metadata": {},
   "outputs": [
    {
     "name": "stdout",
     "output_type": "stream",
     "text": [
      "0th epoch starting.\n",
      "1th epoch starting.ing batch #499 reconstruction loss: 0.030005\n",
      "2th epoch starting.ing batch #499 reconstruction loss: 0.024107\n",
      "3th epoch starting.ing batch #499 reconstruction loss: 0.021511\n",
      "4th epoch starting.ing batch #499 reconstruction loss: 0.016795\n",
      "5th epoch starting.ing batch #499 reconstruction loss: 0.014868\n",
      "6th epoch starting.ing batch #499 reconstruction loss: 0.015011\n",
      "7th epoch starting.ing batch #499 reconstruction loss: 0.011456\n",
      "8th epoch starting.ing batch #499 reconstruction loss: 0.012015\n",
      "9th epoch starting.ing batch #499 reconstruction loss: 0.013013\n",
      "Time ellapsed in training is: 26.782079935073853 loss: 0.011306\n"
     ]
    },
    {
     "data": {
      "text/plain": [
       "Decoder(\n",
       "  (fc1): Linear(in_features=32, out_features=128, bias=True)\n",
       "  (fc2): Linear(in_features=128, out_features=256, bias=True)\n",
       "  (fc3): Linear(in_features=256, out_features=784, bias=True)\n",
       ")"
      ]
     },
     "execution_count": 6,
     "metadata": {},
     "output_type": "execute_result"
    },
    {
     "data": {
      "image/png": "[encoded data removed]",
      "text/plain": [
       "<Figure size 432x288 with 1 Axes>"
      ]
     },
     "metadata": {
      "needs_background": "light"
     },
     "output_type": "display_data"
    }
   ],
   "source": [
    "'''\n",
    "Step 4: Training\n",
    "'''\n",
    "train_loader = torch.utils.data.DataLoader(dataset=train_dataset, batch_size=batch_size, shuffle=True)\n",
    "\n",
    "\n",
    "train_loss_list = []\n",
    "\n",
    "import time\n",
    "start = time.time()\n",
    "for epoch in range(epochs) :\n",
    "    print(\"{}th epoch starting.\".format(epoch))\n",
    "    enc.train()\n",
    "    dec.train()\n",
    "    for batch, (images, _) in enumerate(train_loader) :\n",
    "        images = images.to(device)\n",
    "        z = enc(images)\n",
    "        reconstructed_images = dec(z)\n",
    "        \n",
    "        optimizer.zero_grad()\n",
    "        train_loss = loss_function(images, reconstructed_images)\n",
    "        train_loss.backward()\n",
    "        train_loss_list.append(train_loss.item())\n",
    "\n",
    "        optimizer.step()\n",
    "\n",
    "        print(f\"[Epoch {epoch:3d}] Processing batch #{batch:3d} reconstruction loss: {train_loss.item():.6f}\", end='\\r')\n",
    "end = time.time()\n",
    "print(\"Time ellapsed in training is: {}\".format(end - start))\n",
    "\n",
    "# plotting train loss\n",
    "plt.plot(range(1,len(train_loss_list)+1), train_loss_list, 'r', label='Training loss')\n",
    "plt.title('Training loss')\n",
    "plt.xlabel('Iterations')\n",
    "plt.ylabel('Loss')\n",
    "plt.legend()\n",
    "plt.savefig('loss.png')\n",
    "\n",
    "enc.eval()\n",
    "dec.eval()"
   ]
  },
  {
   "cell_type": "code",
   "execution_count": 7,
   "metadata": {},
   "outputs": [
    {
     "name": "stdout",
     "output_type": "stream",
     "text": [
      "threshold:  tensor(0.0329)\n"
     ]
    }
   ],
   "source": [
    "'''\n",
    "Step 5: Calculate standard deviation by using validation set\n",
    "'''\n",
    "validation_loader = torch.utils.data.DataLoader(dataset=validation_dataset, batch_size=batch_size)\n",
    "\n",
    "enc.eval()\n",
    "dec.eval()\n",
    "\n",
    "loss_list = []\n",
    "for images, _ in validation_loader:\n",
    "    images = images.to(device)\n",
    "    z = enc(images)\n",
    "    reconstructed_images = dec(z)\n",
    "    errors = ((images - reconstructed_images)**2).view(batch_size, -1)\n",
    "    for error in errors:\n",
    "        loss_list.append(torch.mean(error))\n",
    "\n",
    "mean = torch.mean(torch.tensor(loss_list))\n",
    "std = torch.std(torch.tensor(loss_list))\n",
    "\n",
    "threshold = mean + 3 * std\n",
    "print(\"threshold: \", threshold)"
   ]
  },
  {
   "cell_type": "code",
   "execution_count": 8,
   "metadata": {},
   "outputs": [
    {
     "name": "stdout",
     "output_type": "stream",
     "text": [
      "type 1 error rate :  1.04 %\n"
     ]
    }
   ],
   "source": [
    "'''\n",
    "Step 6: Anomaly detection (mnist)\n",
    "'''\n",
    "test_loader = torch.utils.data.DataLoader(dataset=test_dataset, batch_size=batch_size)\n",
    "\n",
    "type_I_error = 0\n",
    "for images, _ in test_loader:\n",
    "    images = images.to(device)\n",
    "    z = enc(images)\n",
    "    reconstructed_images = dec(z)\n",
    "    errors = ((images - reconstructed_images)**2).view(batch_size, -1)\n",
    "    for error in errors:\n",
    "        if torch.mean(error) > threshold:\n",
    "            type_I_error += 1\n",
    "\n",
    "type_I_error_rate = type_I_error / (len(test_loader) * batch_size)\n",
    "print(\"type 1 error rate : \", type_I_error_rate*100 , \"%\")"
   ]
  },
  {
   "cell_type": "code",
   "execution_count": 9,
   "metadata": {},
   "outputs": [
    {
     "name": "stdout",
     "output_type": "stream",
     "text": [
      "type 2 error rate :  2.9499999999999997 %\n"
     ]
    }
   ],
   "source": [
    "'''\n",
    "Step 7: Anomaly detection (kmnist)\n",
    "'''\n",
    "anomaly_loader = torch.utils.data.DataLoader(dataset=anomaly_dataset, batch_size=batch_size)\n",
    "\n",
    "type_II_error = 0\n",
    "for images, _ in anomaly_loader:\n",
    "    images = images.to(device)\n",
    "    z = enc(images)\n",
    "    reconstructed_images = dec(z)\n",
    "    errors = ((images - reconstructed_images)**2).view(batch_size, -1)\n",
    "    for error in errors:\n",
    "        if torch.mean(error) <= threshold:\n",
    "            type_II_error += 1\n",
    "\n",
    "type_II_error_rate = type_II_error / (len(anomaly_loader) * batch_size)\n",
    "print(\"type 2 error rate : \", type_II_error_rate*100, \"%\")"
   ]
  },
  {
   "cell_type": "markdown",
   "metadata": {},
   "source": [
    "# Problem 2"
   ]
  },
  {
   "cell_type": "code",
   "execution_count": 10,
   "metadata": {},
   "outputs": [],
   "source": [
    "import torch\n",
    "import torch.utils.data as data \n",
    "import torch.nn as nn\n",
    "from torch.distributions.normal import Normal \n",
    "from torch.distributions.uniform import Uniform\n",
    "import numpy as np\n",
    "import matplotlib.pyplot as plt"
   ]
  },
  {
   "cell_type": "code",
   "execution_count": 11,
   "metadata": {},
   "outputs": [],
   "source": [
    "epochs = 100\n",
    "learning_rate = 5e-2\n",
    "batch_size = 128\n",
    "n_components = 5 # the number of kernel\n",
    "target_distribution = Normal(0.0, 1.0)"
   ]
  },
  {
   "cell_type": "code",
   "execution_count": 12,
   "metadata": {},
   "outputs": [],
   "source": [
    "####################################\n",
    "# STEP 1: Implement 1-d Flow model #\n",
    "# Model is misture of Gaussian CDFs\n",
    "####################################\n",
    "\n",
    "class Flow1d(nn.Module):\n",
    "    def __init__(self, n_components):\n",
    "        super(Flow1d, self).__init__()\n",
    "        self.mus = nn.Parameter(torch.randn(n_components), requires_grad=True)\n",
    "        self.log_sigmas = nn.Parameter(torch.zeros(n_components), requires_grad=True)\n",
    "        self.weight_logits = nn.Parameter(torch.ones(n_components), requires_grad=True)\n",
    "\n",
    "    def forward(self, x):\n",
    "        x = x.view(-1,1)\n",
    "        weights = self.weight_logits.exp()\n",
    "        distribution = Normal(self.mus, self.log_sigmas.exp())\n",
    "        z = ((distribution.cdf(x) - 0.5) * weights).sum(dim=1)\n",
    "        dz_by_dx = (distribution.log_prob(x).exp() * weights).sum(dim=1)\n",
    "        return z, dz_by_dx"
   ]
  },
  {
   "cell_type": "code",
   "execution_count": 13,
   "metadata": {},
   "outputs": [],
   "source": [
    "################################################\n",
    "# STEP 2: Create Dataset and Create Dataloader #\n",
    "################################################ \n",
    "\n",
    "def mixture_of_gaussians(num, mu_var=(-1,0.25, 0.2,0.25, 1.5,0.25)):\n",
    "    n = num // 3\n",
    "    m1,s1,m2,s2,m3,s3 = mu_var\n",
    "    gaussian1 = np.random.normal(loc=m1, scale=s1, size=(n,))\n",
    "    gaussian2 = np.random.normal(loc=m2, scale=s2, size=(n,))\n",
    "    gaussian3 = np.random.normal(loc=m3, scale=s3, size=(num-n,))\n",
    "    return np.concatenate([gaussian1, gaussian2, gaussian3])\n",
    "\n",
    "class MyDataset(data.Dataset):\n",
    "    def __init__(self, array):\n",
    "        super().__init__()\n",
    "        self.array = array\n",
    "\n",
    "    def __len__(self):\n",
    "        return len(self.array)\n",
    "\n",
    "    def __getitem__(self, index):\n",
    "        return self.array[index]"
   ]
  },
  {
   "cell_type": "code",
   "execution_count": 14,
   "metadata": {},
   "outputs": [],
   "source": [
    "################################\n",
    "# STEP 3: Define Loss Function #\n",
    "################################\n",
    "\n",
    "def loss_function(target_distribution, z, dz_by_dx):\n",
    "    # log(p_Z(z)) = target_distribution.log_prob(z)\n",
    "    # log(dz/dx) = dz_by_dx.log() (flow is defined so that dz/dx>0)\n",
    "    log_likelihood = target_distribution.log_prob(z) + dz_by_dx.log()\n",
    "    return -log_likelihood.mean()  #flip sign, and sum of data X_1,...X_N"
   ]
  },
  {
   "cell_type": "code",
   "execution_count": 15,
   "metadata": {},
   "outputs": [],
   "source": [
    "###########################\n",
    "# STEP 4: Train the model #\n",
    "########################### \n",
    "\n",
    "# create dataloader\n",
    "n_train, n_test = 5000, 1000\n",
    "train_data = mixture_of_gaussians(n_train)\n",
    "test_data = mixture_of_gaussians(n_test)\n",
    "\n",
    "train_loader = data.DataLoader(MyDataset(train_data), batch_size=batch_size, shuffle=True)\n",
    "test_loader = data.DataLoader(MyDataset(test_data), batch_size=batch_size, shuffle=True)\n",
    "\n",
    "# create model\n",
    "flow = Flow1d(n_components)\n",
    "optimizer = torch.optim.Adam(flow.parameters(), lr=learning_rate)\n",
    "\n",
    "train_losses, test_losses = [], []\n",
    "\n",
    "for epoch in range(epochs):\n",
    "    # train\n",
    "#     flow.train()\n",
    "    mean_loss = 0\n",
    "    for i, x in enumerate(train_loader):\n",
    "        z, dz_by_dx = flow(x)\n",
    "        loss = loss_function(target_distribution, z, dz_by_dx)\n",
    "        optimizer.zero_grad()\n",
    "        loss.backward()\n",
    "        optimizer.step()\n",
    "\n",
    "        mean_loss += loss.item()\n",
    "    train_losses.append(mean_loss/(i+1))\n",
    "\n",
    "    # test\n",
    "    flow.eval()\n",
    "    mean_loss = 0\n",
    "    for i, x in enumerate(test_loader):\n",
    "        z, dz_by_dx = flow(x)\n",
    "        loss = loss_function(target_distribution, z, dz_by_dx)\n",
    "\n",
    "        mean_loss += loss.item()\n",
    "    test_losses.append(mean_loss/(i+1))"
   ]
  },
  {
   "cell_type": "code",
   "execution_count": 16,
   "metadata": {},
   "outputs": [
    {
     "data": {
      "image/png": "[encoded data removed]",
      "text/plain": [
       "<Figure size 864x288 with 2 Axes>"
      ]
     },
     "metadata": {
      "needs_background": "light"
     },
     "output_type": "display_data"
    }
   ],
   "source": [
    "# Visualize training and test data\n",
    "\n",
    "_, axes = plt.subplots(1,2, figsize=(12,4))\n",
    "_ = axes[0].hist(train_loader.dataset.array, bins=50)\n",
    "_ = axes[1].hist(test_loader.dataset.array, bins=50)\n",
    "_ = axes[0].set_title('Training data')\n",
    "_ = axes[1].set_title('Test data')"
   ]
  },
  {
   "cell_type": "code",
   "execution_count": 17,
   "metadata": {},
   "outputs": [
    {
     "data": {
      "text/plain": [
       "<matplotlib.legend.Legend at 0x13e5b1040>"
      ]
     },
     "execution_count": 17,
     "metadata": {},
     "output_type": "execute_result"
    },
    {
     "data": {
      "image/png": "[encoded data removed]",
      "text/plain": [
       "<Figure size 432x288 with 1 Axes>"
      ]
     },
     "metadata": {
      "needs_background": "light"
     },
     "output_type": "display_data"
    }
   ],
   "source": [
    "# View training and test loss\n",
    "\n",
    "plt.plot(train_losses, label='train_loss')\n",
    "plt.plot(test_losses, label='test_loss')\n",
    "plt.title(\"Loss\")\n",
    "plt.legend()"
   ]
  },
  {
   "cell_type": "code",
   "execution_count": 18,
   "metadata": {},
   "outputs": [
    {
     "data": {
      "image/png": "[encoded data removed]",
      "text/plain": [
       "<Figure size 864x288 with 2 Axes>"
      ]
     },
     "metadata": {
      "needs_background": "light"
     },
     "output_type": "display_data"
    }
   ],
   "source": [
    "# View learned distribution and flow map\n",
    "\n",
    "x = np.linspace(-3,3,1000)\n",
    "with torch.no_grad():\n",
    "    z, dz_by_dx = flow(torch.FloatTensor(x))\n",
    "    px = (target_distribution.log_prob(z) + dz_by_dx.log()).exp().cpu().numpy()\n",
    "    \n",
    "_, axes = plt.subplots(1,2, figsize=(12,4))\n",
    "_ = axes[0].plot(x,px)\n",
    "_ = axes[0].set_title('Learned distribution')\n",
    "\n",
    "_ = axes[1].plot(x,z)\n",
    "_ = axes[1].set_title('x -> z')"
   ]
  },
  {
   "cell_type": "code",
   "execution_count": 19,
   "metadata": {},
   "outputs": [
    {
     "data": {
      "text/plain": [
       "Text(0.5, 1.0, 'Pz')"
      ]
     },
     "execution_count": 19,
     "metadata": {},
     "output_type": "execute_result"
    },
    {
     "data": {
      "image/png": "[encoded data removed]",
      "text/plain": [
       "<Figure size 432x288 with 1 Axes>"
      ]
     },
     "metadata": {
      "needs_background": "light"
     },
     "output_type": "display_data"
    }
   ],
   "source": [
    "# View learned pz\n",
    "\n",
    "with torch.no_grad():\n",
    "    z, _ = flow(torch.FloatTensor(train_loader.dataset.array))\n",
    "    \n",
    "_ = plt.hist(np.array(z), bins=50)\n",
    "plt.title(\"Pz\")"
   ]
  },
  {
   "cell_type": "code",
   "execution_count": 20,
   "metadata": {},
   "outputs": [
    {
     "data": {
      "text/plain": [
       "Text(0.5, 1.0, 'Sampling X')"
      ]
     },
     "execution_count": 20,
     "metadata": {},
     "output_type": "execute_result"
    },
    {
     "data": {
      "image/png": "[encoded data removed]",
      "text/plain": [
       "<Figure size 432x288 with 1 Axes>"
      ]
     },
     "metadata": {
      "needs_background": "light"
     },
     "output_type": "display_data"
    }
   ],
   "source": [
    "# Sampling X\n",
    "\n",
    "N = 5000\n",
    "z = torch.normal(torch.zeros(N), torch.ones(N))\n",
    "x_low = torch.full((N,), -3.)\n",
    "x_high = torch.full((N,), 3.)\n",
    "\n",
    "#Perform bisection\n",
    "with torch.no_grad():\n",
    "    for _ in range(30):\n",
    "        m = (x_low+x_high)/2\n",
    "        f,_ = flow(m)\n",
    "        x_high[f>=z] = m[f>=z]\n",
    "        x_low[f<z] = m[f<z]\n",
    "    x = (x_low+x_high)/2\n",
    "\n",
    "_ = plt.hist(np.array(x), bins=50)\n",
    "plt.title(\"Sampling X\")"
   ]
  }
 ],
 "metadata": {
  "kernelspec": {
   "display_name": "Python 3 (ipykernel)",
   "language": "python",
   "name": "python3"
  },
  "language_info": {
   "codemirror_mode": {
    "name": "ipython",
    "version": 3
   },
   "file_extension": ".py",
   "mimetype": "text/x-python",
   "name": "python",
   "nbconvert_exporter": "python",
   "pygments_lexer": "ipython3",
   "version": "3.8.10"
  },
  "vscode": {
   "interpreter": {
    "hash": "aee8b7b246df8f9039afb4144a1f6fd8d2ca17a180786b69acc140d282b71a49"
   }
  }
 },
 "nbformat": 4,
 "nbformat_minor": 4
}
