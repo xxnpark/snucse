{
 "cells": [
  {
   "cell_type": "code",
   "execution_count": null,
   "metadata": {},
   "outputs": [],
   "source": [
    "import numpy as np\n",
    "import matplotlib.pyplot as plt\n",
    "from scipy.integrate import odeint"
   ]
  },
  {
   "cell_type": "code",
   "execution_count": null,
   "metadata": {},
   "outputs": [],
   "source": [
    "def f(Y, t):\n",
    "    y1, y2 = Y\n",
    "    return [3*y1 + 2*y2, 2*y1 + 3*y2]\n",
    "\n",
    "y1 = np.linspace(0.0, 50.0, 20)\n",
    "y2 = np.linspace(-50.0, 0.0, 20)\n",
    "\n",
    "Y1, Y2 = np.meshgrid(y1, y2)\n",
    "\n",
    "t = 0\n",
    "\n",
    "u, v = np.zeros(Y1.shape), np.zeros(Y2.shape)\n",
    "\n",
    "NI, NJ = Y1.shape\n",
    "\n",
    "for i in range(NI):\n",
    "    for j in range(NJ):\n",
    "        x = Y1[i, j]\n",
    "        y = Y2[i, j]\n",
    "        yprime = f([x, y], t)\n",
    "        u[i,j] = yprime[0]\n",
    "        v[i,j] = yprime[1]\n",
    "\n",
    "Q = plt.quiver(Y1, Y2, u, v, color='r')\n",
    "\n",
    "plt.title(\"Problem 6 (b)\")\n",
    "plt.xlabel('$y_1$')\n",
    "plt.ylabel('$y_2$')\n",
    "plt.xlim([0, 50])\n",
    "plt.ylim([-50, 0])"
   ]
  },
  {
   "cell_type": "code",
   "execution_count": null,
   "metadata": {},
   "outputs": [],
   "source": [
    "tspan = np.linspace(0, 100, 200)\n",
    "y0 = [0.5, -0.5]\n",
    "ys = odeint(f, y0, tspan)\n",
    "plt.plot(ys[:,0], ys[:,1], 'b-') # path\n",
    "plt.plot([ys[0,0]], [ys[0,1]], 'o') # start\n",
    "plt.plot([ys[-1,0]], [ys[-1,1]], 's') # end"
   ]
  },
  {
   "cell_type": "code",
   "execution_count": null,
   "metadata": {},
   "outputs": [],
   "source": [
    "plt.savefig(\"plot.pdf\")"
   ]
  }
 ],
 "metadata": {
  "interpreter": {
   "hash": "aee8b7b246df8f9039afb4144a1f6fd8d2ca17a180786b69acc140d282b71a49"
  },
  "kernelspec": {
   "display_name": "Python 3.8.10 64-bit",
   "language": "python",
   "name": "python3"
  },
  "language_info": {
   "name": "python",
   "version": "3.8.10"
  },
  "orig_nbformat": 4
 },
 "nbformat": 4,
 "nbformat_minor": 2
}
