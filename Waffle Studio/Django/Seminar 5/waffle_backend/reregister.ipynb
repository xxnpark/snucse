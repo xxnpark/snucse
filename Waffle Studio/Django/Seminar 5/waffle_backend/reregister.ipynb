{
 "cells": [
  {
   "cell_type": "code",
   "execution_count": 4,
   "metadata": {},
   "outputs": [],
   "source": [
    "import os\n",
    "import django\n",
    "os.environ.setdefault('DJANGO_SETTINGS_MODULE', 'rest.settings')\n",
    "os.environ['DJANGO_ALLOW_ASYNC_UNSAFE'] = 'true'\n",
    "django.setup()"
   ]
  },
  {
   "cell_type": "code",
   "execution_count": 5,
   "metadata": {},
   "outputs": [
    {
     "name": "stdout",
     "output_type": "stream",
     "text": [
      "User id : 2\n",
      "Seminar ID : 1\n"
     ]
    }
   ],
   "source": [
    "user_id = int(input(\"User id : \"))  # 드랍을 번복할 수강생의 id\n",
    "seminar_id = (int(input(\"Seminar ID : \"))) # 드랍을 번복할 세미나의 id"
   ]
  },
  {
   "cell_type": "code",
   "execution_count": 8,
   "metadata": {},
   "outputs": [
    {
     "name": "stdout",
     "output_type": "stream",
     "text": [
      "성공적으로 drop을 취소하였습니다.\n"
     ]
    }
   ],
   "source": [
    "try:\n",
    "    userseminar = UserSeminar.objects.get(user_id=user_id, seminar_id=seminar_id, role='participant')\n",
    "    if userseminar.is_active == False:\n",
    "        userseminar.is_active = True\n",
    "        userseminar.save()\n",
    "        print(\"성공적으로 drop을 취소하였습니다.\")\n",
    "    else:\n",
    "        print(\"이미 세미나에 참여중입니다.\")\n",
    "except User.DoesNotExist:\n",
    "    print(\"가입되지 않는 사용자입니다.\")\n",
    "except Seminar.DoesNotExist:\n",
    "    print(\"존재하지 않는 세미나입니다.\")\n",
    "except UserSeminar.DoesNotExist:\n",
    "    print(\"해당 사용자는 세미나에 참가자로 참여한 적이 없습니다.\")"
   ]
  },
  {
   "cell_type": "code",
   "execution_count": null,
   "metadata": {},
   "outputs": [],
   "source": []
  }
 ],
 "metadata": {
  "kernelspec": {
   "display_name": "Django Shell-Plus",
   "language": "python",
   "name": "django_extensions"
  },
  "language_info": {
   "codemirror_mode": {
    "name": "ipython",
    "version": 3
   },
   "file_extension": ".py",
   "mimetype": "text/x-python",
   "name": "python",
   "nbconvert_exporter": "python",
   "pygments_lexer": "ipython3",
   "version": "3.8.10"
  }
 },
 "nbformat": 4,
 "nbformat_minor": 1
}
